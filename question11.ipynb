{
 "cells": [
  {
   "cell_type": "markdown",
   "id": "b2d4b921-20a1-4ee1-9bf9-8f2f8f1a4df8",
   "metadata": {},
   "source": [
    "# Platon Rybakov\n",
    "Notebook for assignment 7"
   ]
  },
  {
   "cell_type": "code",
   "execution_count": 1,
   "id": "b395f3ef-0ee0-4ebc-b89d-2ebfa1b9685f",
   "metadata": {},
   "outputs": [
    {
     "name": "stdout",
     "output_type": "stream",
     "text": [
      "5.0\n"
     ]
    }
   ],
   "source": [
    "def compute_mean(values):\n",
    "    mean = sum(values) / len(values)\n",
    "    print(mean)\n",
    "\n",
    "compute_mean([2, 4, 6, 8])"
   ]
  },
  {
   "cell_type": "markdown",
   "id": "4d859287-f9d8-4b45-ade9-a67bc543041d",
   "metadata": {},
   "source": [
    "The code above computes the arthimetic mean of an inputted list; this is done by taking a sum of the values in the list in the numerator, and dividing it by the number of vales in the list.\n",
    "The equation is listed below:\n",
    "\n",
    "$$\n",
    "\\bar{x} = \\frac{x_1 + x_2 + \\cdots + x_n}{n} = \\frac{1}{n} \\left(\\sum_{i=1}^{n} x_i \\right)\n",
    "$$"
   ]
  },
  {
   "cell_type": "code",
   "execution_count": null,
   "id": "6f54b99f-bc3f-4a66-859a-005177e956bc",
   "metadata": {},
   "outputs": [],
   "source": []
  }
 ],
 "metadata": {
  "kernelspec": {
   "display_name": "Python [conda env:base] *",
   "language": "python",
   "name": "conda-base-py"
  },
  "language_info": {
   "codemirror_mode": {
    "name": "ipython",
    "version": 3
   },
   "file_extension": ".py",
   "mimetype": "text/x-python",
   "name": "python",
   "nbconvert_exporter": "python",
   "pygments_lexer": "ipython3",
   "version": "3.12.3"
  }
 },
 "nbformat": 4,
 "nbformat_minor": 5
}
